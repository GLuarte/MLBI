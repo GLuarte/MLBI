{
 "cells": [
  {
   "cell_type": "markdown",
   "metadata": {},
   "source": [
    "# This code shows you how to use the pdbpp libraby\n",
    "\n",
    " This library can be used for debugging your tensoflow code and the procedure implemented here is known as\n",
    "[postmorten debugging] (href=https://almarklein.org/pm-debugging.html).\n",
    "\n",
    " You can find the library [here](https://docs.python.org/3/library/pdb.html), and for more ***Markdown Styling*** you must vist [this](https://www.markdownguide.org/basic-syntax/) page."
   ]
  },
  {
   "cell_type": "markdown",
   "metadata": {},
   "source": [
    "## Importing the required modules"
   ]
  },
  {
   "cell_type": "code",
   "execution_count": null,
   "metadata": {},
   "outputs": [],
   "source": [
    "import os\n",
    "os.environ['TF_CPP_MIN_LOG_LEVEL'] = '3'\n",
    "import tensorflow as tf\n"
   ]
  },
  {
   "cell_type": "markdown",
   "metadata": {},
   "source": [
    " I got this example from the the [tensorflow website](https://www.tensorflow.org/guide/function).\n",
    " Just make sure you check the dbpp page to understand how to use\n",
    "* where,\n",
    "* list,\n",
    "* up,\n",
    "* down,\n",
    "* next,\n",
    "* step,\n",
    "* continue.\n",
    " Now, let's load the function"
   ]
  },
  {
   "cell_type": "code",
   "execution_count": null,
   "metadata": {},
   "outputs": [],
   "source": [
    "@tf.function\n",
    "def f(x):\n",
    "  if x > 0:\n",
    "    # Try setting a breakpoint here!\n",
    "    # Example:\n",
    "    import pdb\n",
    "    pdb.set_trace() # where, list, up, down, next, step, continue\n",
    "    x = x + 1\n",
    "    pdb.set_trace()\n",
    "  return x\n"
   ]
  },
  {
   "cell_type": "markdown",
   "metadata": {},
   "source": [
    "You have to configure the ***experimental_run_functions_eagerly***, to make ensure\n",
    "that the traced graph function is deactivated. Tensorflow states the following on its [website](https://www.tensorflow.org/api_docs/python/tf/config/experimental_run_functions_eagerly):\n",
    "> Calling tf.config.experimental_run_functions_eagerly(True) will make all invocations of tf.function run eagerly instead of running as a traced graph function.This can be useful for debugging or profiling. For example, let's say you implemented a simple iterative sqrt function, and you want to collect the intermediate values and plot the convergence. Appending the values to a list in @tf.function normally wouldn't work since it will just record the Tensors being traced, not the values. Instead, you can do the following."
   ]
  },
  {
   "cell_type": "code",
   "execution_count": null,
   "metadata": {},
   "outputs": [],
   "source": [
    "tf.config.experimental_run_functions_eagerly(True)\n",
    "\n",
    "# You can now set breakpoints and run the code in a debugger.\n",
    "f(tf.constant(1))\n",
    "\n",
    "tf.config.experimental_run_functions_eagerly(False)\n"
   ]
  },
  {
   "cell_type": "markdown",
   "metadata": {},
   "source": [
    " Finally, if you want to clear the screen, just run the following"
   ]
  },
  {
   "cell_type": "code",
   "execution_count": null,
   "metadata": {},
   "outputs": [],
   "source": [
    "os.system('cls')\n",
    "\n"
   ]
  }
 ],
 "metadata": {
  "file_extension": ".py",
  "kernelspec": {
   "display_name": "Python 3",
   "language": "python",
   "name": "python3"
  },
  "language_info": {
   "codemirror_mode": {
    "name": "ipython",
    "version": 3
   },
   "file_extension": ".py",
   "mimetype": "text/x-python",
   "name": "python",
   "nbconvert_exporter": "python",
   "pygments_lexer": "ipython3",
   "version": "3.6.4"
  },
  "mimetype": "text/x-python",
  "name": "python",
  "npconvert_exporter": "python",
  "pygments_lexer": "ipython3",
  "version": 3
 },
 "nbformat": 4,
 "nbformat_minor": 2
}
